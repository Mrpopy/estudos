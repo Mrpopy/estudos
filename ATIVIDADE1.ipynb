{
  "nbformat": 4,
  "nbformat_minor": 0,
  "metadata": {
    "colab": {
      "provenance": [],
      "authorship_tag": "ABX9TyOvDadUnPqT9u+qUa5JPI0n",
      "include_colab_link": true
    },
    "kernelspec": {
      "name": "python3",
      "display_name": "Python 3"
    },
    "language_info": {
      "name": "python"
    }
  },
  "cells": [
    {
      "cell_type": "markdown",
      "metadata": {
        "id": "view-in-github",
        "colab_type": "text"
      },
      "source": [
        "<a href=\"https://colab.research.google.com/github/Mrpopy/estudos/blob/main/ATIVIDADE1.ipynb\" target=\"_parent\"><img src=\"https://colab.research.google.com/assets/colab-badge.svg\" alt=\"Open In Colab\"/></a>"
      ]
    },
    {
      "cell_type": "code",
      "execution_count": null,
      "metadata": {
        "id": "J0y8PTleuuWe"
      },
      "outputs": [],
      "source": [
        "#TIAGO FELIX  MOURA DOS SANT0S\n",
        "#MÓDULO 1A\n",
        "\n",
        "#1\n",
        "\n",
        "print('olá ETE CÍCERO DIAS!')\n",
        "\n",
        "#2\n",
        "\n",
        "numero = input('Digite um número por favor:')\n",
        "print(f'o número informado foi {numero}.')\n",
        "\n",
        "#3\n",
        "\n",
        "x = int(input('digite o valor de x :'))\n",
        "y = int(input('digite o valor de y :'))\n",
        "soma = x+y\n",
        "print(soma)\n",
        "\n",
        "#4\n",
        "\n",
        "nota1 = int(input('digite sua nota1:'))\n",
        "nota2 = int(input('digite sua nota2:'))\n",
        "nota3 = int(input('digite sua nota3:'))\n",
        "nota4 = int(input('digite sua nota4:'))\n",
        "divisao = (nota1 + nota2 + nota3 + nota4) / 4\n",
        "print(f'sua média é: {divisao}')\n",
        "\n",
        "#5\n",
        "\n",
        "metro = int(input('digite seu metro : '))\n",
        "divisao = (metro/100)\n",
        "print(f'seus metros em centimetros são:{divisao} ')\n",
        "\n",
        "#6\n",
        "\n",
        "r = int(input('digite o raio: '))\n",
        "a = (3.14) * (r **2)\n",
        "print(f'sua area mede: {a}')\n",
        "\n",
        "#7\n",
        "\n",
        "base = int(input(' digite a base do quadrado:  '))\n",
        "altura = int(input(' digite a altura do quadrado: '))\n",
        "quadrado1 =(base*altura)*2\n",
        "quadrado2 =(base*altura)\n",
        "str(f'a área do seu quadrado é: {quadrado2} e o dobro da área do seu quadrado é: {quadrado1}')\n",
        "\n",
        "#8\n",
        "\n",
        "trabalha = int(input('digite as suas horas trabalhadas no mês: '))\n",
        "hora = int(input('digite quanto você ganha por hora: '))\n",
        "resposta = (trabalha*hora)\n",
        "str(f'o seu salario é: {resposta} ')\n",
        "\n",
        "#9\n",
        "\n",
        "valor= float(input('Digite um valor: '))\n",
        "if valor >= 0 :\n",
        "  print('Seu valor é positivo.')\n",
        "else :\n",
        "  print('Seu valor é negativo.')\n",
        "\n",
        "#10\n",
        "\n",
        "letra = str(input('Digite uma letra:'))\n",
        "if  letra == \"F\" or letra ==\"f\":\n",
        "  print('Feminino.')\n",
        "elif letra == \"M\" or letra ==\"m\":\n",
        "  print('Masculino.')\n",
        "else:\n",
        "    print('Sexo inválido.')"
      ]
    }
  ]
}
{
  "nbformat": 4,
  "nbformat_minor": 0,
  "metadata": {
    "colab": {
      "provenance": [],
      "authorship_tag": "ABX9TyPjoY5qnYqMMm/ELPwOVP9C",
      "include_colab_link": true
    },
    "kernelspec": {
      "name": "python3",
      "display_name": "Python 3"
    },
    "language_info": {
      "name": "python"
    }
  },
  "cells": [
    {
      "cell_type": "markdown",
      "metadata": {
        "id": "view-in-github",
        "colab_type": "text"
      },
      "source": [
        "<a href=\"https://colab.research.google.com/github/Mrpopy/estudos/blob/main/projetopi.ipynb\" target=\"_parent\"><img src=\"https://colab.research.google.com/assets/colab-badge.svg\" alt=\"Open In Colab\"/></a>"
      ]
    },
    {
      "cell_type": "code",
      "execution_count": 41,
      "metadata": {
        "id": "NpNxgPmd4xJG"
      },
      "outputs": [],
      "source": [
        "class idoso:\n",
        "    def __init__(self, nome, idade, senha , genero , email):\n",
        "        self.nome = nome\n",
        "        self.idade = idade\n",
        "        self.senha = senha\n",
        "        self.genero = genero\n",
        "        self.email = email\n",
        "\n",
        "def apresentar(self):\n",
        "  return f\"nome: {self.nome} , idade: {self.idade} , senha: {self.senha} genero: {self.email}\""
      ]
    }
  ]
}

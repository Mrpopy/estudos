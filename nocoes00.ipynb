{
  "nbformat": 4,
  "nbformat_minor": 0,
  "metadata": {
    "colab": {
      "provenance": [],
      "authorship_tag": "ABX9TyMUWcSRegEko6Fmi9lNai0g",
      "include_colab_link": true
    },
    "kernelspec": {
      "name": "python3",
      "display_name": "Python 3"
    },
    "language_info": {
      "name": "python"
    }
  },
  "cells": [
    {
      "cell_type": "markdown",
      "metadata": {
        "id": "view-in-github",
        "colab_type": "text"
      },
      "source": [
        "<a href=\"https://colab.research.google.com/github/Mrpopy/estudos/blob/main/nocoes00.ipynb\" target=\"_parent\"><img src=\"https://colab.research.google.com/assets/colab-badge.svg\" alt=\"Open In Colab\"/></a>"
      ]
    },
    {
      "cell_type": "code",
      "execution_count": 21,
      "metadata": {
        "colab": {
          "base_uri": "https://localhost:8080/"
        },
        "id": "FIe2CvH45T28",
        "outputId": "a4f44116-515c-4d66-baf8-c48e5f96cfce"
      },
      "outputs": [
        {
          "output_type": "execute_result",
          "data": {
            "text/plain": [
              "4"
            ]
          },
          "metadata": {},
          "execution_count": 21
        }
      ],
      "source": [
        "class carro:\n",
        "   def __init__(self):\n",
        "    self._nrodas=4\n",
        "   def set_rodas(self,n):\n",
        "    self._nrodas = n\n",
        "gol = carro()\n",
        "gol._nrodas\n",
        "\n",
        "#gol.set_nrodas(10)\n",
        "#gol._nrodas\n",
        "\n",
        "#imprimi o objeto...\n",
        "#c = carro()\n",
        "#print (c)\n",
        "\n",
        "\n"
      ]
    }
  ]
}
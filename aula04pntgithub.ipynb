{
  "nbformat": 4,
  "nbformat_minor": 0,
  "metadata": {
    "colab": {
      "provenance": []
    },
    "kernelspec": {
      "name": "python3",
      "display_name": "Python 3"
    },
    "language_info": {
      "name": "python"
    }
  },
  "cells": [
    {
      "cell_type": "code",
      "execution_count": null,
      "metadata": {
        "colab": {
          "base_uri": "https://localhost:8080/"
        },
        "id": "64Dfm8UBiZGf",
        "outputId": "2c61d4c9-76d1-4d75-e53d-ad0cd0152888"
      },
      "outputs": [
        {
          "output_type": "stream",
          "name": "stdout",
          "text": [
            "<class 'bool'>\n",
            "oi\n"
          ]
        }
      ],
      "source": [
        "# ETE CÍCERO DIAS\n",
        "# DOCENTE: CLOVES\n",
        "# ESTUDANTE: TIAGO FÉLIX E TAYNÁ DE FRANÇA\n",
        "# print('tiago e tayna')\n",
        "# tipos de dados '''\n",
        "c = True\n",
        "print(type(c))\n",
        "\n",
        "print('oi')\n"
      ]
    }
  ]
}